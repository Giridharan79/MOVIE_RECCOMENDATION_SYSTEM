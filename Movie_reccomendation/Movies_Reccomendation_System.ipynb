#!/usr/bin/env python
# coding: utf-8

# In[91]:


import pandas as pd


# # Uploading the CSV file

# In[93]:


movies = pd.read_csv('IMDB-Movie-Data.csv')


# In[94]:


movies.head(5)


# In[95]:


movies.describe()


# In[96]:


movies.info()


# In[97]:


movies.isnull().sum()


# In[98]:


movies.columns


# In[99]:


movies = movies[['Rank', 'Title', 'Description', 'Director', 'Genre', 'Actors','Year','Votes', 'Rating', 'Metascore']]


# In[100]:


movies


# In[101]:


movies['tags'] = movies['Title'] + movies['Genre']


# In[102]:


movies


# In[103]:


new_data = movies.drop(columns=['Description', 'Votes'])


# In[104]:


new_data


# In[105]:


from sklearn.feature_extraction.text import CountVectorizer


# In[106]:


cv = CountVectorizer(max_features=1500, stop_words='english')


# In[107]:


cv


# In[108]:


vector = cv.fit_transform(new_data['tags'].values.astype('U')).toarray()


# In[109]:


vector.shape


# In[110]:


from sklearn.metrics.pairwise import cosine_similarity


# In[111]:


similarity = cosine_similarity(vector)


# In[112]:


similarity


# In[113]:


new_data[new_data['Title']=="Suicide Squad"]


# In[114]:


new_data[new_data['Title']=="Suicide Squad"].index[0]


# In[115]:


distance = sorted(list(enumerate(similarity[3])), reverse = True, key = lambda vector:vector[1])
for i in distance[0:5]:
    print(new_data.iloc[i[0]].Title)


# In[116]:


def recommand(movies):
    index = new_data[new_data['Title']==movies].index[0]
    distance = sorted(list(enumerate(similarity[index])), reverse=True, key=lambda vector:vector[1])
    for i in distance[0:5]:
        print(new_data.iloc[i[0]].Title)


# In[133]:


recommand("The Conjuring 2")


# # Movies with their Ratings are displayed in the Pie-chart

# In[149]:


bins = [0, 5, 6, 7, 8, 9, 10]
labels = ['0-5', '5-6', '6-7', '7-8', '8-9', '9-10']

movies['Rating Category'] = pd.cut(movies['Rating'], bins=bins, labels=labels, right=False)

rating_grouped = movies.groupby('Rating Category')['Title'].apply(list)

plt.figure(figsize=(10, 8))
plt.pie(rating_grouped.apply(len), labels=labels, autopct='%1.1f%%', startangle=140, colors=plt.cm.Paired.colors)
plt.title('Distribution of Movie Ratings')
plt.show()


# # Top 10 movies with their Highest Rating

# In[150]:


top_rated_movies = movies.sort_values(by='Rating', ascending=False).head(10)

movie_titles = top_rated_movies['Title']
ratings = top_rated_movies['Rating']

plt.figure(figsize=(10, 8))
plt.barh(movie_titles, ratings, color='skyblue')
plt.xlabel('Rating')
plt.title('Top 10 Movies with Highest Ratings')
plt.gca().invert_yaxis() 
plt.show()


# In[135]:


import pickle


# In[146]:


pickle.dump(new_data, open('movies_list.pkl', 'wb'))


# In[147]:


pickle.dump(similarity, open('similarity.pkl', 'wb'))


# In[148]:


pickle.load(open('movies_list.pkl', 'rb'))


# In[ ]:




